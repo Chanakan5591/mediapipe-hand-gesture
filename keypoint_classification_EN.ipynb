{
  "cells": [
    {
      "cell_type": "code",
      "execution_count": 183,
      "metadata": {
        "id": "igMyGnjE9hEp"
      },
      "outputs": [],
      "source": [
        "import csv\n",
        "\n",
        "import numpy as np\n",
        "import tensorflow as tf\n",
        "from sklearn.model_selection import train_test_split\n",
        "\n",
        "RANDOM_SEED = 42"
      ]
    },
    {
      "cell_type": "markdown",
      "metadata": {
        "id": "t2HDvhIu9hEr"
      },
      "source": [
        "# Specify each path"
      ]
    },
    {
      "cell_type": "code",
      "execution_count": 184,
      "metadata": {
        "id": "9NvZP2Zn9hEy"
      },
      "outputs": [],
      "source": [
        "dataset = 'model/keypoint_classifier/keypoint.csv'\n",
        "model_save_path = 'model/keypoint_classifier/keypoint_classifier.hdf5'\n",
        "tflite_save_path = 'model/keypoint_classifier/keypoint_classifier.tflite'"
      ]
    },
    {
      "cell_type": "markdown",
      "metadata": {
        "id": "s5oMH7x19hEz"
      },
      "source": [
        "# Set number of classes"
      ]
    },
    {
      "cell_type": "code",
      "execution_count": 185,
      "metadata": {
        "id": "du4kodXL9hEz"
      },
      "outputs": [],
      "source": [
        "NUM_CLASSES = 8"
      ]
    },
    {
      "cell_type": "markdown",
      "metadata": {
        "id": "XjnL0uso9hEz"
      },
      "source": [
        "# Dataset reading"
      ]
    },
    {
      "cell_type": "code",
      "execution_count": 186,
      "metadata": {
        "id": "QT5ZqtEz9hE0"
      },
      "outputs": [],
      "source": [
        "X_dataset = np.loadtxt(dataset, delimiter=',', dtype='float32', usecols=list(range(1, (21 * 2) + 1)))"
      ]
    },
    {
      "cell_type": "code",
      "execution_count": 187,
      "metadata": {
        "id": "QmoKFsp49hE0"
      },
      "outputs": [],
      "source": [
        "y_dataset = np.loadtxt(dataset, delimiter=',', dtype='int32', usecols=(0))"
      ]
    },
    {
      "cell_type": "code",
      "execution_count": 188,
      "metadata": {
        "id": "xQU7JTZ_9hE0"
      },
      "outputs": [],
      "source": [
        "X_train, X_test, y_train, y_test = train_test_split(X_dataset, y_dataset, train_size=0.75, random_state=RANDOM_SEED)"
      ]
    },
    {
      "cell_type": "markdown",
      "metadata": {
        "id": "mxK_lETT9hE0"
      },
      "source": [
        "# Model building"
      ]
    },
    {
      "cell_type": "code",
      "execution_count": 189,
      "metadata": {
        "id": "vHBmUf1t9hE1"
      },
      "outputs": [],
      "source": [
        "model = tf.keras.models.Sequential([\n",
        "    tf.keras.layers.Input((21 * 2, )),\n",
        "    tf.keras.layers.Dropout(0.2),\n",
        "    tf.keras.layers.Dense(20, activation='relu'),\n",
        "    tf.keras.layers.Dropout(0.4),\n",
        "    tf.keras.layers.Dense(10, activation='relu'),\n",
        "    tf.keras.layers.Dense(NUM_CLASSES, activation='softmax')\n",
        "])"
      ]
    },
    {
      "cell_type": "code",
      "execution_count": 190,
      "metadata": {
        "colab": {
          "base_uri": "https://localhost:8080/"
        },
        "id": "ypqky9tc9hE1",
        "outputId": "5db082bb-30e3-4110-bf63-a1ee777ecd46"
      },
      "outputs": [
        {
          "name": "stdout",
          "output_type": "stream",
          "text": [
            "Model: \"sequential_9\"\n",
            "_________________________________________________________________\n",
            "Layer (type)                 Output Shape              Param #   \n",
            "=================================================================\n",
            "dropout_18 (Dropout)         (None, 42)                0         \n",
            "_________________________________________________________________\n",
            "dense_27 (Dense)             (None, 20)                860       \n",
            "_________________________________________________________________\n",
            "dropout_19 (Dropout)         (None, 20)                0         \n",
            "_________________________________________________________________\n",
            "dense_28 (Dense)             (None, 10)                210       \n",
            "_________________________________________________________________\n",
            "dense_29 (Dense)             (None, 8)                 88        \n",
            "=================================================================\n",
            "Total params: 1,158\n",
            "Trainable params: 1,158\n",
            "Non-trainable params: 0\n",
            "_________________________________________________________________\n"
          ]
        }
      ],
      "source": [
        "model.summary()  # tf.keras.utils.plot_model(model, show_shapes=True)"
      ]
    },
    {
      "cell_type": "code",
      "execution_count": 191,
      "metadata": {
        "id": "MbMjOflQ9hE1"
      },
      "outputs": [],
      "source": [
        "# Model checkpoint callback\n",
        "cp_callback = tf.keras.callbacks.ModelCheckpoint(\n",
        "    model_save_path, verbose=1, save_weights_only=False)\n",
        "# Callback for early stopping\n",
        "es_callback = tf.keras.callbacks.EarlyStopping(patience=20, verbose=1)"
      ]
    },
    {
      "cell_type": "code",
      "execution_count": 192,
      "metadata": {
        "id": "c3Dac0M_9hE2"
      },
      "outputs": [],
      "source": [
        "# Model compilation\n",
        "model.compile(\n",
        "    optimizer='adam',\n",
        "    loss='sparse_categorical_crossentropy',\n",
        "    metrics=['accuracy']\n",
        ")"
      ]
    },
    {
      "cell_type": "markdown",
      "metadata": {
        "id": "7XI0j1Iu9hE2"
      },
      "source": [
        "# Model training"
      ]
    },
    {
      "cell_type": "code",
      "execution_count": 193,
      "metadata": {
        "colab": {
          "base_uri": "https://localhost:8080/"
        },
        "id": "WirBl-JE9hE3",
        "outputId": "71b30ca2-8294-4d9d-8aa2-800d90d399de",
        "scrolled": true
      },
      "outputs": [
        {
          "name": "stdout",
          "output_type": "stream",
          "text": [
            "Epoch 1/1000\n",
            "32/32 [==============================] - 0s 6ms/step - loss: 2.0859 - accuracy: 0.1966 - val_loss: 1.9111 - val_accuracy: 0.2526\n",
            "\n",
            "Epoch 00001: saving model to model/keypoint_classifier\\keypoint_classifier.hdf5\n",
            "Epoch 2/1000\n",
            "32/32 [==============================] - 0s 2ms/step - loss: 1.8975 - accuracy: 0.2730 - val_loss: 1.7680 - val_accuracy: 0.2541\n",
            "\n",
            "Epoch 00002: saving model to model/keypoint_classifier\\keypoint_classifier.hdf5\n",
            "Epoch 3/1000\n",
            "32/32 [==============================] - 0s 2ms/step - loss: 1.7579 - accuracy: 0.3067 - val_loss: 1.6327 - val_accuracy: 0.4741\n",
            "\n",
            "Epoch 00003: saving model to model/keypoint_classifier\\keypoint_classifier.hdf5\n",
            "Epoch 4/1000\n",
            "32/32 [==============================] - 0s 2ms/step - loss: 1.6571 - accuracy: 0.3508 - val_loss: 1.4987 - val_accuracy: 0.5163\n",
            "\n",
            "Epoch 00004: saving model to model/keypoint_classifier\\keypoint_classifier.hdf5\n",
            "Epoch 5/1000\n",
            "32/32 [==============================] - 0s 2ms/step - loss: 1.5587 - accuracy: 0.3974 - val_loss: 1.4029 - val_accuracy: 0.5259\n",
            "\n",
            "Epoch 00005: saving model to model/keypoint_classifier\\keypoint_classifier.hdf5\n",
            "Epoch 6/1000\n",
            "32/32 [==============================] - 0s 2ms/step - loss: 1.4872 - accuracy: 0.4136 - val_loss: 1.3362 - val_accuracy: 0.5430\n",
            "\n",
            "Epoch 00006: saving model to model/keypoint_classifier\\keypoint_classifier.hdf5\n",
            "Epoch 7/1000\n",
            "32/32 [==============================] - 0s 2ms/step - loss: 1.4527 - accuracy: 0.4368 - val_loss: 1.2806 - val_accuracy: 0.5637\n",
            "\n",
            "Epoch 00007: saving model to model/keypoint_classifier\\keypoint_classifier.hdf5\n",
            "Epoch 8/1000\n",
            "32/32 [==============================] - 0s 2ms/step - loss: 1.4172 - accuracy: 0.4357 - val_loss: 1.2282 - val_accuracy: 0.5852\n",
            "\n",
            "Epoch 00008: saving model to model/keypoint_classifier\\keypoint_classifier.hdf5\n",
            "Epoch 9/1000\n",
            "32/32 [==============================] - 0s 2ms/step - loss: 1.3723 - accuracy: 0.4687 - val_loss: 1.1777 - val_accuracy: 0.6104\n",
            "\n",
            "Epoch 00009: saving model to model/keypoint_classifier\\keypoint_classifier.hdf5\n",
            "Epoch 10/1000\n",
            "32/32 [==============================] - 0s 2ms/step - loss: 1.3413 - accuracy: 0.4905 - val_loss: 1.1340 - val_accuracy: 0.6326\n",
            "\n",
            "Epoch 00010: saving model to model/keypoint_classifier\\keypoint_classifier.hdf5\n",
            "Epoch 11/1000\n",
            "32/32 [==============================] - 0s 2ms/step - loss: 1.3096 - accuracy: 0.4930 - val_loss: 1.0978 - val_accuracy: 0.6615\n",
            "\n",
            "Epoch 00011: saving model to model/keypoint_classifier\\keypoint_classifier.hdf5\n",
            "Epoch 12/1000\n",
            "32/32 [==============================] - 0s 2ms/step - loss: 1.2505 - accuracy: 0.5233 - val_loss: 1.0561 - val_accuracy: 0.6681\n",
            "\n",
            "Epoch 00012: saving model to model/keypoint_classifier\\keypoint_classifier.hdf5\n",
            "Epoch 13/1000\n",
            "32/32 [==============================] - 0s 2ms/step - loss: 1.2550 - accuracy: 0.5346 - val_loss: 1.0246 - val_accuracy: 0.6770\n",
            "\n",
            "Epoch 00013: saving model to model/keypoint_classifier\\keypoint_classifier.hdf5\n",
            "Epoch 14/1000\n",
            "32/32 [==============================] - 0s 2ms/step - loss: 1.2401 - accuracy: 0.5367 - val_loss: 0.9860 - val_accuracy: 0.6963\n",
            "\n",
            "Epoch 00014: saving model to model/keypoint_classifier\\keypoint_classifier.hdf5\n",
            "Epoch 15/1000\n",
            "32/32 [==============================] - 0s 2ms/step - loss: 1.2071 - accuracy: 0.5638 - val_loss: 0.9535 - val_accuracy: 0.6978\n",
            "\n",
            "Epoch 00015: saving model to model/keypoint_classifier\\keypoint_classifier.hdf5\n",
            "Epoch 16/1000\n",
            "32/32 [==============================] - 0s 2ms/step - loss: 1.1881 - accuracy: 0.5415 - val_loss: 0.9259 - val_accuracy: 0.7519\n",
            "\n",
            "Epoch 00016: saving model to model/keypoint_classifier\\keypoint_classifier.hdf5\n",
            "Epoch 17/1000\n",
            "32/32 [==============================] - 0s 2ms/step - loss: 1.1587 - accuracy: 0.5755 - val_loss: 0.8905 - val_accuracy: 0.7644\n",
            "\n",
            "Epoch 00017: saving model to model/keypoint_classifier\\keypoint_classifier.hdf5\n",
            "Epoch 18/1000\n",
            "32/32 [==============================] - 0s 2ms/step - loss: 1.1425 - accuracy: 0.5826 - val_loss: 0.8717 - val_accuracy: 0.7800\n",
            "\n",
            "Epoch 00018: saving model to model/keypoint_classifier\\keypoint_classifier.hdf5\n",
            "Epoch 19/1000\n",
            "32/32 [==============================] - 0s 2ms/step - loss: 1.1093 - accuracy: 0.5802 - val_loss: 0.8470 - val_accuracy: 0.7978\n",
            "\n",
            "Epoch 00019: saving model to model/keypoint_classifier\\keypoint_classifier.hdf5\n",
            "Epoch 20/1000\n",
            "32/32 [==============================] - 0s 3ms/step - loss: 1.1015 - accuracy: 0.5909 - val_loss: 0.8166 - val_accuracy: 0.8037\n",
            "\n",
            "Epoch 00020: saving model to model/keypoint_classifier\\keypoint_classifier.hdf5\n",
            "Epoch 21/1000\n",
            "32/32 [==============================] - 0s 2ms/step - loss: 1.0521 - accuracy: 0.6176 - val_loss: 0.7978 - val_accuracy: 0.7926\n",
            "\n",
            "Epoch 00021: saving model to model/keypoint_classifier\\keypoint_classifier.hdf5\n",
            "Epoch 22/1000\n",
            "32/32 [==============================] - 0s 2ms/step - loss: 1.0771 - accuracy: 0.5993 - val_loss: 0.7756 - val_accuracy: 0.8067\n",
            "\n",
            "Epoch 00022: saving model to model/keypoint_classifier\\keypoint_classifier.hdf5\n",
            "Epoch 23/1000\n",
            "32/32 [==============================] - 0s 2ms/step - loss: 1.0703 - accuracy: 0.6005 - val_loss: 0.7535 - val_accuracy: 0.8170\n",
            "\n",
            "Epoch 00023: saving model to model/keypoint_classifier\\keypoint_classifier.hdf5\n",
            "Epoch 24/1000\n",
            "32/32 [==============================] - 0s 2ms/step - loss: 1.0145 - accuracy: 0.6315 - val_loss: 0.7333 - val_accuracy: 0.8274\n",
            "\n",
            "Epoch 00024: saving model to model/keypoint_classifier\\keypoint_classifier.hdf5\n",
            "Epoch 25/1000\n",
            "32/32 [==============================] - 0s 2ms/step - loss: 1.0413 - accuracy: 0.6123 - val_loss: 0.7316 - val_accuracy: 0.8252\n",
            "\n",
            "Epoch 00025: saving model to model/keypoint_classifier\\keypoint_classifier.hdf5\n",
            "Epoch 26/1000\n",
            "32/32 [==============================] - 0s 2ms/step - loss: 1.0140 - accuracy: 0.6272 - val_loss: 0.7061 - val_accuracy: 0.8296\n",
            "\n",
            "Epoch 00026: saving model to model/keypoint_classifier\\keypoint_classifier.hdf5\n",
            "Epoch 27/1000\n",
            "32/32 [==============================] - 0s 2ms/step - loss: 1.0204 - accuracy: 0.6264 - val_loss: 0.7016 - val_accuracy: 0.8141\n",
            "\n",
            "Epoch 00027: saving model to model/keypoint_classifier\\keypoint_classifier.hdf5\n",
            "Epoch 28/1000\n",
            "32/32 [==============================] - 0s 2ms/step - loss: 0.9897 - accuracy: 0.6356 - val_loss: 0.6832 - val_accuracy: 0.8267\n",
            "\n",
            "Epoch 00028: saving model to model/keypoint_classifier\\keypoint_classifier.hdf5\n",
            "Epoch 29/1000\n",
            "32/32 [==============================] - 0s 2ms/step - loss: 1.0109 - accuracy: 0.6259 - val_loss: 0.6579 - val_accuracy: 0.8237\n",
            "\n",
            "Epoch 00029: saving model to model/keypoint_classifier\\keypoint_classifier.hdf5\n",
            "Epoch 30/1000\n",
            "32/32 [==============================] - 0s 2ms/step - loss: 0.9609 - accuracy: 0.6407 - val_loss: 0.6524 - val_accuracy: 0.8267\n",
            "\n",
            "Epoch 00030: saving model to model/keypoint_classifier\\keypoint_classifier.hdf5\n",
            "Epoch 31/1000\n",
            "32/32 [==============================] - 0s 2ms/step - loss: 0.9633 - accuracy: 0.6482 - val_loss: 0.6482 - val_accuracy: 0.8178\n",
            "\n",
            "Epoch 00031: saving model to model/keypoint_classifier\\keypoint_classifier.hdf5\n",
            "Epoch 32/1000\n",
            "32/32 [==============================] - 0s 2ms/step - loss: 0.9826 - accuracy: 0.6433 - val_loss: 0.6401 - val_accuracy: 0.8326\n",
            "\n",
            "Epoch 00032: saving model to model/keypoint_classifier\\keypoint_classifier.hdf5\n",
            "Epoch 33/1000\n",
            "32/32 [==============================] - 0s 2ms/step - loss: 0.9276 - accuracy: 0.6476 - val_loss: 0.6205 - val_accuracy: 0.8311\n",
            "\n",
            "Epoch 00033: saving model to model/keypoint_classifier\\keypoint_classifier.hdf5\n",
            "Epoch 34/1000\n",
            "32/32 [==============================] - 0s 2ms/step - loss: 0.9484 - accuracy: 0.6504 - val_loss: 0.6067 - val_accuracy: 0.8326\n",
            "\n",
            "Epoch 00034: saving model to model/keypoint_classifier\\keypoint_classifier.hdf5\n",
            "Epoch 35/1000\n",
            "32/32 [==============================] - 0s 2ms/step - loss: 0.9148 - accuracy: 0.6548 - val_loss: 0.5973 - val_accuracy: 0.8326\n",
            "\n",
            "Epoch 00035: saving model to model/keypoint_classifier\\keypoint_classifier.hdf5\n",
            "Epoch 36/1000\n",
            "32/32 [==============================] - 0s 2ms/step - loss: 0.9315 - accuracy: 0.6513 - val_loss: 0.5997 - val_accuracy: 0.8281\n",
            "\n",
            "Epoch 00036: saving model to model/keypoint_classifier\\keypoint_classifier.hdf5\n",
            "Epoch 37/1000\n",
            "32/32 [==============================] - 0s 2ms/step - loss: 0.9339 - accuracy: 0.6602 - val_loss: 0.5852 - val_accuracy: 0.8385\n",
            "\n",
            "Epoch 00037: saving model to model/keypoint_classifier\\keypoint_classifier.hdf5\n",
            "Epoch 38/1000\n",
            "32/32 [==============================] - 0s 2ms/step - loss: 0.9294 - accuracy: 0.6558 - val_loss: 0.5819 - val_accuracy: 0.8444\n",
            "\n",
            "Epoch 00038: saving model to model/keypoint_classifier\\keypoint_classifier.hdf5\n",
            "Epoch 39/1000\n",
            "32/32 [==============================] - 0s 2ms/step - loss: 0.9086 - accuracy: 0.6680 - val_loss: 0.5720 - val_accuracy: 0.8400\n",
            "\n",
            "Epoch 00039: saving model to model/keypoint_classifier\\keypoint_classifier.hdf5\n",
            "Epoch 40/1000\n",
            "32/32 [==============================] - 0s 2ms/step - loss: 0.9109 - accuracy: 0.6748 - val_loss: 0.5699 - val_accuracy: 0.8415\n",
            "\n",
            "Epoch 00040: saving model to model/keypoint_classifier\\keypoint_classifier.hdf5\n",
            "Epoch 41/1000\n",
            "32/32 [==============================] - 0s 2ms/step - loss: 0.9168 - accuracy: 0.6699 - val_loss: 0.5638 - val_accuracy: 0.8407\n",
            "\n",
            "Epoch 00041: saving model to model/keypoint_classifier\\keypoint_classifier.hdf5\n",
            "Epoch 42/1000\n",
            "32/32 [==============================] - 0s 2ms/step - loss: 0.8883 - accuracy: 0.6727 - val_loss: 0.5576 - val_accuracy: 0.8415\n",
            "\n",
            "Epoch 00042: saving model to model/keypoint_classifier\\keypoint_classifier.hdf5\n",
            "Epoch 43/1000\n",
            "32/32 [==============================] - 0s 2ms/step - loss: 0.8608 - accuracy: 0.6897 - val_loss: 0.5411 - val_accuracy: 0.8615\n",
            "\n",
            "Epoch 00043: saving model to model/keypoint_classifier\\keypoint_classifier.hdf5\n",
            "Epoch 44/1000\n",
            "32/32 [==============================] - 0s 2ms/step - loss: 0.8925 - accuracy: 0.6778 - val_loss: 0.5348 - val_accuracy: 0.8615\n",
            "\n",
            "Epoch 00044: saving model to model/keypoint_classifier\\keypoint_classifier.hdf5\n",
            "Epoch 45/1000\n",
            "32/32 [==============================] - 0s 2ms/step - loss: 0.8703 - accuracy: 0.6819 - val_loss: 0.5335 - val_accuracy: 0.8615\n",
            "\n",
            "Epoch 00045: saving model to model/keypoint_classifier\\keypoint_classifier.hdf5\n",
            "Epoch 46/1000\n",
            "32/32 [==============================] - 0s 2ms/step - loss: 0.9089 - accuracy: 0.6643 - val_loss: 0.5288 - val_accuracy: 0.8585\n",
            "\n",
            "Epoch 00046: saving model to model/keypoint_classifier\\keypoint_classifier.hdf5\n",
            "Epoch 47/1000\n",
            "32/32 [==============================] - 0s 2ms/step - loss: 0.8782 - accuracy: 0.6797 - val_loss: 0.5286 - val_accuracy: 0.8585\n",
            "\n",
            "Epoch 00047: saving model to model/keypoint_classifier\\keypoint_classifier.hdf5\n",
            "Epoch 48/1000\n",
            "32/32 [==============================] - 0s 2ms/step - loss: 0.8867 - accuracy: 0.6776 - val_loss: 0.5173 - val_accuracy: 0.8719\n",
            "\n",
            "Epoch 00048: saving model to model/keypoint_classifier\\keypoint_classifier.hdf5\n",
            "Epoch 49/1000\n",
            "32/32 [==============================] - 0s 2ms/step - loss: 0.8583 - accuracy: 0.6892 - val_loss: 0.5114 - val_accuracy: 0.8667\n",
            "\n",
            "Epoch 00049: saving model to model/keypoint_classifier\\keypoint_classifier.hdf5\n",
            "Epoch 50/1000\n",
            "32/32 [==============================] - 0s 2ms/step - loss: 0.8522 - accuracy: 0.6893 - val_loss: 0.4975 - val_accuracy: 0.8756\n",
            "\n",
            "Epoch 00050: saving model to model/keypoint_classifier\\keypoint_classifier.hdf5\n",
            "Epoch 51/1000\n",
            "32/32 [==============================] - 0s 2ms/step - loss: 0.8258 - accuracy: 0.6990 - val_loss: 0.4988 - val_accuracy: 0.8837\n",
            "\n",
            "Epoch 00051: saving model to model/keypoint_classifier\\keypoint_classifier.hdf5\n",
            "Epoch 52/1000\n",
            "32/32 [==============================] - 0s 2ms/step - loss: 0.8405 - accuracy: 0.6988 - val_loss: 0.4959 - val_accuracy: 0.8837\n",
            "\n",
            "Epoch 00052: saving model to model/keypoint_classifier\\keypoint_classifier.hdf5\n",
            "Epoch 53/1000\n",
            "32/32 [==============================] - 0s 2ms/step - loss: 0.8565 - accuracy: 0.7071 - val_loss: 0.4998 - val_accuracy: 0.8733\n",
            "\n",
            "Epoch 00053: saving model to model/keypoint_classifier\\keypoint_classifier.hdf5\n",
            "Epoch 54/1000\n",
            "32/32 [==============================] - 0s 2ms/step - loss: 0.8492 - accuracy: 0.6769 - val_loss: 0.4866 - val_accuracy: 0.8770\n",
            "\n",
            "Epoch 00054: saving model to model/keypoint_classifier\\keypoint_classifier.hdf5\n",
            "Epoch 55/1000\n",
            "32/32 [==============================] - 0s 2ms/step - loss: 0.8493 - accuracy: 0.6978 - val_loss: 0.4805 - val_accuracy: 0.8844\n",
            "\n",
            "Epoch 00055: saving model to model/keypoint_classifier\\keypoint_classifier.hdf5\n",
            "Epoch 56/1000\n",
            "32/32 [==============================] - 0s 2ms/step - loss: 0.8493 - accuracy: 0.7008 - val_loss: 0.4817 - val_accuracy: 0.8911\n",
            "\n",
            "Epoch 00056: saving model to model/keypoint_classifier\\keypoint_classifier.hdf5\n",
            "Epoch 57/1000\n",
            "32/32 [==============================] - 0s 2ms/step - loss: 0.8519 - accuracy: 0.6854 - val_loss: 0.4805 - val_accuracy: 0.8815\n",
            "\n",
            "Epoch 00057: saving model to model/keypoint_classifier\\keypoint_classifier.hdf5\n",
            "Epoch 58/1000\n",
            "32/32 [==============================] - 0s 2ms/step - loss: 0.8329 - accuracy: 0.6928 - val_loss: 0.4729 - val_accuracy: 0.8896\n",
            "\n",
            "Epoch 00058: saving model to model/keypoint_classifier\\keypoint_classifier.hdf5\n",
            "Epoch 59/1000\n",
            "32/32 [==============================] - 0s 2ms/step - loss: 0.8286 - accuracy: 0.7029 - val_loss: 0.4679 - val_accuracy: 0.8904\n",
            "\n",
            "Epoch 00059: saving model to model/keypoint_classifier\\keypoint_classifier.hdf5\n",
            "Epoch 60/1000\n",
            "32/32 [==============================] - 0s 2ms/step - loss: 0.8052 - accuracy: 0.7026 - val_loss: 0.4696 - val_accuracy: 0.8926\n",
            "\n",
            "Epoch 00060: saving model to model/keypoint_classifier\\keypoint_classifier.hdf5\n",
            "Epoch 61/1000\n",
            "32/32 [==============================] - 0s 2ms/step - loss: 0.8335 - accuracy: 0.6987 - val_loss: 0.4645 - val_accuracy: 0.8978\n",
            "\n",
            "Epoch 00061: saving model to model/keypoint_classifier\\keypoint_classifier.hdf5\n",
            "Epoch 62/1000\n",
            "32/32 [==============================] - 0s 2ms/step - loss: 0.8248 - accuracy: 0.6938 - val_loss: 0.4622 - val_accuracy: 0.8948\n",
            "\n",
            "Epoch 00062: saving model to model/keypoint_classifier\\keypoint_classifier.hdf5\n",
            "Epoch 63/1000\n",
            "32/32 [==============================] - 0s 2ms/step - loss: 0.8253 - accuracy: 0.7064 - val_loss: 0.4540 - val_accuracy: 0.8941\n",
            "\n",
            "Epoch 00063: saving model to model/keypoint_classifier\\keypoint_classifier.hdf5\n",
            "Epoch 64/1000\n",
            "32/32 [==============================] - 0s 2ms/step - loss: 0.8085 - accuracy: 0.7128 - val_loss: 0.4509 - val_accuracy: 0.8985\n",
            "\n",
            "Epoch 00064: saving model to model/keypoint_classifier\\keypoint_classifier.hdf5\n",
            "Epoch 65/1000\n",
            "32/32 [==============================] - 0s 2ms/step - loss: 0.8468 - accuracy: 0.6920 - val_loss: 0.4574 - val_accuracy: 0.8993\n",
            "\n",
            "Epoch 00065: saving model to model/keypoint_classifier\\keypoint_classifier.hdf5\n",
            "Epoch 66/1000\n",
            "32/32 [==============================] - 0s 2ms/step - loss: 0.8302 - accuracy: 0.6900 - val_loss: 0.4475 - val_accuracy: 0.9030\n",
            "\n",
            "Epoch 00066: saving model to model/keypoint_classifier\\keypoint_classifier.hdf5\n",
            "Epoch 67/1000\n",
            "32/32 [==============================] - 0s 3ms/step - loss: 0.8163 - accuracy: 0.7014 - val_loss: 0.4469 - val_accuracy: 0.9089\n",
            "\n",
            "Epoch 00067: saving model to model/keypoint_classifier\\keypoint_classifier.hdf5\n",
            "Epoch 68/1000\n",
            "32/32 [==============================] - 0s 2ms/step - loss: 0.8044 - accuracy: 0.7116 - val_loss: 0.4521 - val_accuracy: 0.9052\n",
            "\n",
            "Epoch 00068: saving model to model/keypoint_classifier\\keypoint_classifier.hdf5\n",
            "Epoch 69/1000\n",
            "32/32 [==============================] - 0s 2ms/step - loss: 0.8071 - accuracy: 0.7081 - val_loss: 0.4425 - val_accuracy: 0.8978\n",
            "\n",
            "Epoch 00069: saving model to model/keypoint_classifier\\keypoint_classifier.hdf5\n",
            "Epoch 70/1000\n",
            "32/32 [==============================] - 0s 2ms/step - loss: 0.8255 - accuracy: 0.6964 - val_loss: 0.4367 - val_accuracy: 0.9059\n",
            "\n",
            "Epoch 00070: saving model to model/keypoint_classifier\\keypoint_classifier.hdf5\n",
            "Epoch 71/1000\n",
            "32/32 [==============================] - 0s 2ms/step - loss: 0.7869 - accuracy: 0.7257 - val_loss: 0.4353 - val_accuracy: 0.9037\n",
            "\n",
            "Epoch 00071: saving model to model/keypoint_classifier\\keypoint_classifier.hdf5\n",
            "Epoch 72/1000\n",
            "32/32 [==============================] - 0s 2ms/step - loss: 0.7959 - accuracy: 0.7031 - val_loss: 0.4315 - val_accuracy: 0.9126\n",
            "\n",
            "Epoch 00072: saving model to model/keypoint_classifier\\keypoint_classifier.hdf5\n",
            "Epoch 73/1000\n",
            "32/32 [==============================] - 0s 2ms/step - loss: 0.7848 - accuracy: 0.7154 - val_loss: 0.4355 - val_accuracy: 0.9067\n",
            "\n",
            "Epoch 00073: saving model to model/keypoint_classifier\\keypoint_classifier.hdf5\n",
            "Epoch 74/1000\n",
            "32/32 [==============================] - 0s 2ms/step - loss: 0.8207 - accuracy: 0.7066 - val_loss: 0.4267 - val_accuracy: 0.9133\n",
            "\n",
            "Epoch 00074: saving model to model/keypoint_classifier\\keypoint_classifier.hdf5\n",
            "Epoch 75/1000\n",
            "32/32 [==============================] - 0s 2ms/step - loss: 0.8062 - accuracy: 0.7062 - val_loss: 0.4271 - val_accuracy: 0.9081\n",
            "\n",
            "Epoch 00075: saving model to model/keypoint_classifier\\keypoint_classifier.hdf5\n",
            "Epoch 76/1000\n",
            "32/32 [==============================] - 0s 2ms/step - loss: 0.8178 - accuracy: 0.7002 - val_loss: 0.4224 - val_accuracy: 0.9126\n",
            "\n",
            "Epoch 00076: saving model to model/keypoint_classifier\\keypoint_classifier.hdf5\n",
            "Epoch 77/1000\n",
            "32/32 [==============================] - 0s 2ms/step - loss: 0.7889 - accuracy: 0.7158 - val_loss: 0.4157 - val_accuracy: 0.9170\n",
            "\n",
            "Epoch 00077: saving model to model/keypoint_classifier\\keypoint_classifier.hdf5\n",
            "Epoch 78/1000\n",
            "32/32 [==============================] - 0s 2ms/step - loss: 0.7678 - accuracy: 0.7225 - val_loss: 0.4086 - val_accuracy: 0.9178\n",
            "\n",
            "Epoch 00078: saving model to model/keypoint_classifier\\keypoint_classifier.hdf5\n",
            "Epoch 79/1000\n",
            "32/32 [==============================] - 0s 2ms/step - loss: 0.7791 - accuracy: 0.7359 - val_loss: 0.4150 - val_accuracy: 0.9193\n",
            "\n",
            "Epoch 00079: saving model to model/keypoint_classifier\\keypoint_classifier.hdf5\n",
            "Epoch 80/1000\n",
            "32/32 [==============================] - 0s 2ms/step - loss: 0.7836 - accuracy: 0.7189 - val_loss: 0.4145 - val_accuracy: 0.9170\n",
            "\n",
            "Epoch 00080: saving model to model/keypoint_classifier\\keypoint_classifier.hdf5\n",
            "Epoch 81/1000\n",
            "32/32 [==============================] - 0s 2ms/step - loss: 0.7865 - accuracy: 0.7133 - val_loss: 0.4174 - val_accuracy: 0.9193\n",
            "\n",
            "Epoch 00081: saving model to model/keypoint_classifier\\keypoint_classifier.hdf5\n",
            "Epoch 82/1000\n",
            "32/32 [==============================] - 0s 2ms/step - loss: 0.8056 - accuracy: 0.7081 - val_loss: 0.4164 - val_accuracy: 0.9193\n",
            "\n",
            "Epoch 00082: saving model to model/keypoint_classifier\\keypoint_classifier.hdf5\n",
            "Epoch 83/1000\n",
            "32/32 [==============================] - 0s 2ms/step - loss: 0.7882 - accuracy: 0.7157 - val_loss: 0.3983 - val_accuracy: 0.9230\n",
            "\n",
            "Epoch 00083: saving model to model/keypoint_classifier\\keypoint_classifier.hdf5\n",
            "Epoch 84/1000\n",
            "32/32 [==============================] - 0s 2ms/step - loss: 0.7485 - accuracy: 0.7242 - val_loss: 0.3986 - val_accuracy: 0.9215\n",
            "\n",
            "Epoch 00084: saving model to model/keypoint_classifier\\keypoint_classifier.hdf5\n",
            "Epoch 85/1000\n",
            "32/32 [==============================] - 0s 2ms/step - loss: 0.7600 - accuracy: 0.7401 - val_loss: 0.3972 - val_accuracy: 0.9259\n",
            "\n",
            "Epoch 00085: saving model to model/keypoint_classifier\\keypoint_classifier.hdf5\n",
            "Epoch 86/1000\n",
            "32/32 [==============================] - 0s 2ms/step - loss: 0.7684 - accuracy: 0.7193 - val_loss: 0.4003 - val_accuracy: 0.9222\n",
            "\n",
            "Epoch 00086: saving model to model/keypoint_classifier\\keypoint_classifier.hdf5\n",
            "Epoch 87/1000\n",
            "32/32 [==============================] - 0s 2ms/step - loss: 0.7888 - accuracy: 0.7218 - val_loss: 0.4030 - val_accuracy: 0.9207\n",
            "\n",
            "Epoch 00087: saving model to model/keypoint_classifier\\keypoint_classifier.hdf5\n",
            "Epoch 88/1000\n",
            "32/32 [==============================] - 0s 2ms/step - loss: 0.7700 - accuracy: 0.7223 - val_loss: 0.3947 - val_accuracy: 0.9252\n",
            "\n",
            "Epoch 00088: saving model to model/keypoint_classifier\\keypoint_classifier.hdf5\n",
            "Epoch 89/1000\n",
            "32/32 [==============================] - 0s 2ms/step - loss: 0.7822 - accuracy: 0.7202 - val_loss: 0.3930 - val_accuracy: 0.9207\n",
            "\n",
            "Epoch 00089: saving model to model/keypoint_classifier\\keypoint_classifier.hdf5\n",
            "Epoch 90/1000\n",
            "32/32 [==============================] - 0s 2ms/step - loss: 0.7666 - accuracy: 0.7307 - val_loss: 0.3967 - val_accuracy: 0.9178\n",
            "\n",
            "Epoch 00090: saving model to model/keypoint_classifier\\keypoint_classifier.hdf5\n",
            "Epoch 91/1000\n",
            "32/32 [==============================] - 0s 2ms/step - loss: 0.7749 - accuracy: 0.7201 - val_loss: 0.3956 - val_accuracy: 0.9244\n",
            "\n",
            "Epoch 00091: saving model to model/keypoint_classifier\\keypoint_classifier.hdf5\n",
            "Epoch 92/1000\n",
            "32/32 [==============================] - 0s 2ms/step - loss: 0.7626 - accuracy: 0.7230 - val_loss: 0.3893 - val_accuracy: 0.9259\n",
            "\n",
            "Epoch 00092: saving model to model/keypoint_classifier\\keypoint_classifier.hdf5\n",
            "Epoch 93/1000\n",
            "32/32 [==============================] - 0s 2ms/step - loss: 0.7399 - accuracy: 0.7284 - val_loss: 0.4037 - val_accuracy: 0.9163\n",
            "\n",
            "Epoch 00093: saving model to model/keypoint_classifier\\keypoint_classifier.hdf5\n",
            "Epoch 94/1000\n",
            "32/32 [==============================] - 0s 2ms/step - loss: 0.7521 - accuracy: 0.7253 - val_loss: 0.3881 - val_accuracy: 0.9281\n",
            "\n",
            "Epoch 00094: saving model to model/keypoint_classifier\\keypoint_classifier.hdf5\n",
            "Epoch 95/1000\n",
            "32/32 [==============================] - 0s 2ms/step - loss: 0.7440 - accuracy: 0.7411 - val_loss: 0.4014 - val_accuracy: 0.9200\n",
            "\n",
            "Epoch 00095: saving model to model/keypoint_classifier\\keypoint_classifier.hdf5\n",
            "Epoch 96/1000\n",
            "32/32 [==============================] - 0s 2ms/step - loss: 0.7627 - accuracy: 0.7271 - val_loss: 0.3861 - val_accuracy: 0.9252\n",
            "\n",
            "Epoch 00096: saving model to model/keypoint_classifier\\keypoint_classifier.hdf5\n",
            "Epoch 97/1000\n",
            "32/32 [==============================] - 0s 2ms/step - loss: 0.7485 - accuracy: 0.7395 - val_loss: 0.3822 - val_accuracy: 0.9274\n",
            "\n",
            "Epoch 00097: saving model to model/keypoint_classifier\\keypoint_classifier.hdf5\n",
            "Epoch 98/1000\n",
            "32/32 [==============================] - 0s 2ms/step - loss: 0.7446 - accuracy: 0.7301 - val_loss: 0.3819 - val_accuracy: 0.9244\n",
            "\n",
            "Epoch 00098: saving model to model/keypoint_classifier\\keypoint_classifier.hdf5\n",
            "Epoch 99/1000\n",
            "32/32 [==============================] - 0s 2ms/step - loss: 0.7491 - accuracy: 0.7347 - val_loss: 0.3849 - val_accuracy: 0.9296\n",
            "\n",
            "Epoch 00099: saving model to model/keypoint_classifier\\keypoint_classifier.hdf5\n",
            "Epoch 100/1000\n",
            "32/32 [==============================] - 0s 2ms/step - loss: 0.7401 - accuracy: 0.7362 - val_loss: 0.3822 - val_accuracy: 0.9193\n",
            "\n",
            "Epoch 00100: saving model to model/keypoint_classifier\\keypoint_classifier.hdf5\n",
            "Epoch 101/1000\n",
            "32/32 [==============================] - 0s 2ms/step - loss: 0.7092 - accuracy: 0.7364 - val_loss: 0.3741 - val_accuracy: 0.9252\n",
            "\n",
            "Epoch 00101: saving model to model/keypoint_classifier\\keypoint_classifier.hdf5\n",
            "Epoch 102/1000\n",
            "32/32 [==============================] - 0s 2ms/step - loss: 0.7226 - accuracy: 0.7390 - val_loss: 0.3871 - val_accuracy: 0.9230\n",
            "\n",
            "Epoch 00102: saving model to model/keypoint_classifier\\keypoint_classifier.hdf5\n",
            "Epoch 103/1000\n",
            "32/32 [==============================] - 0s 2ms/step - loss: 0.7591 - accuracy: 0.7324 - val_loss: 0.3878 - val_accuracy: 0.9244\n",
            "\n",
            "Epoch 00103: saving model to model/keypoint_classifier\\keypoint_classifier.hdf5\n",
            "Epoch 104/1000\n",
            "32/32 [==============================] - 0s 2ms/step - loss: 0.7275 - accuracy: 0.7383 - val_loss: 0.3734 - val_accuracy: 0.9259\n",
            "\n",
            "Epoch 00104: saving model to model/keypoint_classifier\\keypoint_classifier.hdf5\n",
            "Epoch 105/1000\n",
            "32/32 [==============================] - 0s 2ms/step - loss: 0.6893 - accuracy: 0.7424 - val_loss: 0.3814 - val_accuracy: 0.9274\n",
            "\n",
            "Epoch 00105: saving model to model/keypoint_classifier\\keypoint_classifier.hdf5\n",
            "Epoch 106/1000\n",
            "32/32 [==============================] - 0s 2ms/step - loss: 0.7577 - accuracy: 0.7324 - val_loss: 0.3776 - val_accuracy: 0.9311\n",
            "\n",
            "Epoch 00106: saving model to model/keypoint_classifier\\keypoint_classifier.hdf5\n",
            "Epoch 107/1000\n",
            "32/32 [==============================] - 0s 3ms/step - loss: 0.7048 - accuracy: 0.7453 - val_loss: 0.3765 - val_accuracy: 0.9252\n",
            "\n",
            "Epoch 00107: saving model to model/keypoint_classifier\\keypoint_classifier.hdf5\n",
            "Epoch 108/1000\n",
            "32/32 [==============================] - 0s 2ms/step - loss: 0.7161 - accuracy: 0.7500 - val_loss: 0.3735 - val_accuracy: 0.9252\n",
            "\n",
            "Epoch 00108: saving model to model/keypoint_classifier\\keypoint_classifier.hdf5\n",
            "Epoch 109/1000\n",
            "32/32 [==============================] - 0s 2ms/step - loss: 0.7409 - accuracy: 0.7264 - val_loss: 0.3830 - val_accuracy: 0.9274\n",
            "\n",
            "Epoch 00109: saving model to model/keypoint_classifier\\keypoint_classifier.hdf5\n",
            "Epoch 110/1000\n",
            "32/32 [==============================] - 0s 2ms/step - loss: 0.6978 - accuracy: 0.7514 - val_loss: 0.3694 - val_accuracy: 0.9326\n",
            "\n",
            "Epoch 00110: saving model to model/keypoint_classifier\\keypoint_classifier.hdf5\n",
            "Epoch 111/1000\n",
            "32/32 [==============================] - 0s 2ms/step - loss: 0.6990 - accuracy: 0.7475 - val_loss: 0.3711 - val_accuracy: 0.9326\n",
            "\n",
            "Epoch 00111: saving model to model/keypoint_classifier\\keypoint_classifier.hdf5\n",
            "Epoch 112/1000\n",
            "32/32 [==============================] - 0s 2ms/step - loss: 0.7493 - accuracy: 0.7276 - val_loss: 0.3759 - val_accuracy: 0.9267\n",
            "\n",
            "Epoch 00112: saving model to model/keypoint_classifier\\keypoint_classifier.hdf5\n",
            "Epoch 113/1000\n",
            "32/32 [==============================] - 0s 2ms/step - loss: 0.7328 - accuracy: 0.7292 - val_loss: 0.3718 - val_accuracy: 0.9296\n",
            "\n",
            "Epoch 00113: saving model to model/keypoint_classifier\\keypoint_classifier.hdf5\n",
            "Epoch 114/1000\n",
            "32/32 [==============================] - 0s 2ms/step - loss: 0.6850 - accuracy: 0.7589 - val_loss: 0.3706 - val_accuracy: 0.9333\n",
            "\n",
            "Epoch 00114: saving model to model/keypoint_classifier\\keypoint_classifier.hdf5\n",
            "Epoch 115/1000\n",
            "32/32 [==============================] - 0s 2ms/step - loss: 0.7116 - accuracy: 0.7486 - val_loss: 0.3573 - val_accuracy: 0.9296\n",
            "\n",
            "Epoch 00115: saving model to model/keypoint_classifier\\keypoint_classifier.hdf5\n",
            "Epoch 116/1000\n",
            "32/32 [==============================] - 0s 2ms/step - loss: 0.7335 - accuracy: 0.7401 - val_loss: 0.3623 - val_accuracy: 0.9333\n",
            "\n",
            "Epoch 00116: saving model to model/keypoint_classifier\\keypoint_classifier.hdf5\n",
            "Epoch 117/1000\n",
            "32/32 [==============================] - 0s 2ms/step - loss: 0.7119 - accuracy: 0.7465 - val_loss: 0.3726 - val_accuracy: 0.9274\n",
            "\n",
            "Epoch 00117: saving model to model/keypoint_classifier\\keypoint_classifier.hdf5\n",
            "Epoch 118/1000\n",
            "32/32 [==============================] - 0s 2ms/step - loss: 0.7002 - accuracy: 0.7493 - val_loss: 0.3666 - val_accuracy: 0.9259\n",
            "\n",
            "Epoch 00118: saving model to model/keypoint_classifier\\keypoint_classifier.hdf5\n",
            "Epoch 119/1000\n",
            "32/32 [==============================] - 0s 2ms/step - loss: 0.7154 - accuracy: 0.7480 - val_loss: 0.3538 - val_accuracy: 0.9326\n",
            "\n",
            "Epoch 00119: saving model to model/keypoint_classifier\\keypoint_classifier.hdf5\n",
            "Epoch 120/1000\n",
            "32/32 [==============================] - 0s 2ms/step - loss: 0.7152 - accuracy: 0.7491 - val_loss: 0.3513 - val_accuracy: 0.9356\n",
            "\n",
            "Epoch 00120: saving model to model/keypoint_classifier\\keypoint_classifier.hdf5\n",
            "Epoch 121/1000\n",
            "32/32 [==============================] - 0s 2ms/step - loss: 0.6776 - accuracy: 0.7639 - val_loss: 0.3560 - val_accuracy: 0.9281\n",
            "\n",
            "Epoch 00121: saving model to model/keypoint_classifier\\keypoint_classifier.hdf5\n",
            "Epoch 122/1000\n",
            "32/32 [==============================] - 0s 2ms/step - loss: 0.7089 - accuracy: 0.7518 - val_loss: 0.3652 - val_accuracy: 0.9259\n",
            "\n",
            "Epoch 00122: saving model to model/keypoint_classifier\\keypoint_classifier.hdf5\n",
            "Epoch 123/1000\n",
            "32/32 [==============================] - 0s 2ms/step - loss: 0.7059 - accuracy: 0.7516 - val_loss: 0.3501 - val_accuracy: 0.9341\n",
            "\n",
            "Epoch 00123: saving model to model/keypoint_classifier\\keypoint_classifier.hdf5\n",
            "Epoch 124/1000\n",
            "32/32 [==============================] - 0s 2ms/step - loss: 0.7032 - accuracy: 0.7455 - val_loss: 0.3566 - val_accuracy: 0.9370\n",
            "\n",
            "Epoch 00124: saving model to model/keypoint_classifier\\keypoint_classifier.hdf5\n",
            "Epoch 125/1000\n",
            "32/32 [==============================] - 0s 2ms/step - loss: 0.6868 - accuracy: 0.7521 - val_loss: 0.3607 - val_accuracy: 0.9289\n",
            "\n",
            "Epoch 00125: saving model to model/keypoint_classifier\\keypoint_classifier.hdf5\n",
            "Epoch 126/1000\n",
            "32/32 [==============================] - 0s 2ms/step - loss: 0.7052 - accuracy: 0.7456 - val_loss: 0.3543 - val_accuracy: 0.9370\n",
            "\n",
            "Epoch 00126: saving model to model/keypoint_classifier\\keypoint_classifier.hdf5\n",
            "Epoch 127/1000\n",
            "32/32 [==============================] - 0s 2ms/step - loss: 0.6920 - accuracy: 0.7512 - val_loss: 0.3644 - val_accuracy: 0.9274\n",
            "\n",
            "Epoch 00127: saving model to model/keypoint_classifier\\keypoint_classifier.hdf5\n",
            "Epoch 128/1000\n",
            "32/32 [==============================] - 0s 2ms/step - loss: 0.6856 - accuracy: 0.7502 - val_loss: 0.3648 - val_accuracy: 0.9378\n",
            "\n",
            "Epoch 00128: saving model to model/keypoint_classifier\\keypoint_classifier.hdf5\n",
            "Epoch 129/1000\n",
            "32/32 [==============================] - 0s 2ms/step - loss: 0.7207 - accuracy: 0.7387 - val_loss: 0.3571 - val_accuracy: 0.9319\n",
            "\n",
            "Epoch 00129: saving model to model/keypoint_classifier\\keypoint_classifier.hdf5\n",
            "Epoch 130/1000\n",
            "32/32 [==============================] - 0s 2ms/step - loss: 0.6911 - accuracy: 0.7532 - val_loss: 0.3589 - val_accuracy: 0.9378\n",
            "\n",
            "Epoch 00130: saving model to model/keypoint_classifier\\keypoint_classifier.hdf5\n",
            "Epoch 131/1000\n",
            "32/32 [==============================] - 0s 2ms/step - loss: 0.7288 - accuracy: 0.7445 - val_loss: 0.3534 - val_accuracy: 0.9370\n",
            "\n",
            "Epoch 00131: saving model to model/keypoint_classifier\\keypoint_classifier.hdf5\n",
            "Epoch 132/1000\n",
            "32/32 [==============================] - 0s 2ms/step - loss: 0.7218 - accuracy: 0.7382 - val_loss: 0.3513 - val_accuracy: 0.9341\n",
            "\n",
            "Epoch 00132: saving model to model/keypoint_classifier\\keypoint_classifier.hdf5\n",
            "Epoch 133/1000\n",
            "32/32 [==============================] - 0s 2ms/step - loss: 0.7066 - accuracy: 0.7511 - val_loss: 0.3565 - val_accuracy: 0.9363\n",
            "\n",
            "Epoch 00133: saving model to model/keypoint_classifier\\keypoint_classifier.hdf5\n",
            "Epoch 134/1000\n",
            "32/32 [==============================] - 0s 2ms/step - loss: 0.6753 - accuracy: 0.7605 - val_loss: 0.3443 - val_accuracy: 0.9385\n",
            "\n",
            "Epoch 00134: saving model to model/keypoint_classifier\\keypoint_classifier.hdf5\n",
            "Epoch 135/1000\n",
            "32/32 [==============================] - 0s 2ms/step - loss: 0.6917 - accuracy: 0.7626 - val_loss: 0.3468 - val_accuracy: 0.9341\n",
            "\n",
            "Epoch 00135: saving model to model/keypoint_classifier\\keypoint_classifier.hdf5\n",
            "Epoch 136/1000\n",
            "32/32 [==============================] - 0s 2ms/step - loss: 0.7091 - accuracy: 0.7575 - val_loss: 0.3571 - val_accuracy: 0.9304\n",
            "\n",
            "Epoch 00136: saving model to model/keypoint_classifier\\keypoint_classifier.hdf5\n",
            "Epoch 137/1000\n",
            "32/32 [==============================] - 0s 2ms/step - loss: 0.6958 - accuracy: 0.7453 - val_loss: 0.3540 - val_accuracy: 0.9319\n",
            "\n",
            "Epoch 00137: saving model to model/keypoint_classifier\\keypoint_classifier.hdf5\n",
            "Epoch 138/1000\n",
            "32/32 [==============================] - 0s 2ms/step - loss: 0.6781 - accuracy: 0.7532 - val_loss: 0.3456 - val_accuracy: 0.9393\n",
            "\n",
            "Epoch 00138: saving model to model/keypoint_classifier\\keypoint_classifier.hdf5\n",
            "Epoch 139/1000\n",
            "32/32 [==============================] - 0s 2ms/step - loss: 0.6946 - accuracy: 0.7491 - val_loss: 0.3578 - val_accuracy: 0.9333\n",
            "\n",
            "Epoch 00139: saving model to model/keypoint_classifier\\keypoint_classifier.hdf5\n",
            "Epoch 140/1000\n",
            "32/32 [==============================] - 0s 2ms/step - loss: 0.6854 - accuracy: 0.7606 - val_loss: 0.3473 - val_accuracy: 0.9289\n",
            "\n",
            "Epoch 00140: saving model to model/keypoint_classifier\\keypoint_classifier.hdf5\n",
            "Epoch 141/1000\n",
            "32/32 [==============================] - 0s 2ms/step - loss: 0.7128 - accuracy: 0.7321 - val_loss: 0.3433 - val_accuracy: 0.9385\n",
            "\n",
            "Epoch 00141: saving model to model/keypoint_classifier\\keypoint_classifier.hdf5\n",
            "Epoch 142/1000\n",
            "32/32 [==============================] - 0s 2ms/step - loss: 0.6602 - accuracy: 0.7658 - val_loss: 0.3542 - val_accuracy: 0.9326\n",
            "\n",
            "Epoch 00142: saving model to model/keypoint_classifier\\keypoint_classifier.hdf5\n",
            "Epoch 143/1000\n",
            "32/32 [==============================] - 0s 2ms/step - loss: 0.7021 - accuracy: 0.7511 - val_loss: 0.3476 - val_accuracy: 0.9393\n",
            "\n",
            "Epoch 00143: saving model to model/keypoint_classifier\\keypoint_classifier.hdf5\n",
            "Epoch 144/1000\n",
            "32/32 [==============================] - 0s 2ms/step - loss: 0.7294 - accuracy: 0.7480 - val_loss: 0.3599 - val_accuracy: 0.9363\n",
            "\n",
            "Epoch 00144: saving model to model/keypoint_classifier\\keypoint_classifier.hdf5\n",
            "Epoch 145/1000\n",
            "32/32 [==============================] - 0s 2ms/step - loss: 0.6647 - accuracy: 0.7669 - val_loss: 0.3529 - val_accuracy: 0.9333\n",
            "\n",
            "Epoch 00145: saving model to model/keypoint_classifier\\keypoint_classifier.hdf5\n",
            "Epoch 146/1000\n",
            "32/32 [==============================] - 0s 2ms/step - loss: 0.6765 - accuracy: 0.7622 - val_loss: 0.3520 - val_accuracy: 0.9341\n",
            "\n",
            "Epoch 00146: saving model to model/keypoint_classifier\\keypoint_classifier.hdf5\n",
            "Epoch 147/1000\n",
            "32/32 [==============================] - 0s 2ms/step - loss: 0.6950 - accuracy: 0.7504 - val_loss: 0.3541 - val_accuracy: 0.9296\n",
            "\n",
            "Epoch 00147: saving model to model/keypoint_classifier\\keypoint_classifier.hdf5\n",
            "Epoch 148/1000\n",
            "32/32 [==============================] - 0s 2ms/step - loss: 0.6587 - accuracy: 0.7644 - val_loss: 0.3414 - val_accuracy: 0.9326\n",
            "\n",
            "Epoch 00148: saving model to model/keypoint_classifier\\keypoint_classifier.hdf5\n",
            "Epoch 149/1000\n",
            "32/32 [==============================] - 0s 2ms/step - loss: 0.6822 - accuracy: 0.7555 - val_loss: 0.3383 - val_accuracy: 0.9385\n",
            "\n",
            "Epoch 00149: saving model to model/keypoint_classifier\\keypoint_classifier.hdf5\n",
            "Epoch 150/1000\n",
            "32/32 [==============================] - 0s 2ms/step - loss: 0.6763 - accuracy: 0.7648 - val_loss: 0.3349 - val_accuracy: 0.9407\n",
            "\n",
            "Epoch 00150: saving model to model/keypoint_classifier\\keypoint_classifier.hdf5\n",
            "Epoch 151/1000\n",
            "32/32 [==============================] - 0s 2ms/step - loss: 0.6736 - accuracy: 0.7646 - val_loss: 0.3525 - val_accuracy: 0.9296\n",
            "\n",
            "Epoch 00151: saving model to model/keypoint_classifier\\keypoint_classifier.hdf5\n",
            "Epoch 152/1000\n",
            "32/32 [==============================] - 0s 3ms/step - loss: 0.7067 - accuracy: 0.7511 - val_loss: 0.3355 - val_accuracy: 0.9341\n",
            "\n",
            "Epoch 00152: saving model to model/keypoint_classifier\\keypoint_classifier.hdf5\n",
            "Epoch 153/1000\n",
            "32/32 [==============================] - 0s 2ms/step - loss: 0.6960 - accuracy: 0.7506 - val_loss: 0.3567 - val_accuracy: 0.9296\n",
            "\n",
            "Epoch 00153: saving model to model/keypoint_classifier\\keypoint_classifier.hdf5\n",
            "Epoch 154/1000\n",
            "32/32 [==============================] - 0s 2ms/step - loss: 0.6680 - accuracy: 0.7590 - val_loss: 0.3507 - val_accuracy: 0.9363\n",
            "\n",
            "Epoch 00154: saving model to model/keypoint_classifier\\keypoint_classifier.hdf5\n",
            "Epoch 155/1000\n",
            "32/32 [==============================] - 0s 2ms/step - loss: 0.6673 - accuracy: 0.7581 - val_loss: 0.3341 - val_accuracy: 0.9430\n",
            "\n",
            "Epoch 00155: saving model to model/keypoint_classifier\\keypoint_classifier.hdf5\n",
            "Epoch 156/1000\n",
            "32/32 [==============================] - 0s 2ms/step - loss: 0.6875 - accuracy: 0.7589 - val_loss: 0.3359 - val_accuracy: 0.9378\n",
            "\n",
            "Epoch 00156: saving model to model/keypoint_classifier\\keypoint_classifier.hdf5\n",
            "Epoch 157/1000\n",
            "32/32 [==============================] - 0s 2ms/step - loss: 0.6847 - accuracy: 0.7577 - val_loss: 0.3439 - val_accuracy: 0.9333\n",
            "\n",
            "Epoch 00157: saving model to model/keypoint_classifier\\keypoint_classifier.hdf5\n",
            "Epoch 158/1000\n",
            "32/32 [==============================] - 0s 2ms/step - loss: 0.6511 - accuracy: 0.7631 - val_loss: 0.3441 - val_accuracy: 0.9385\n",
            "\n",
            "Epoch 00158: saving model to model/keypoint_classifier\\keypoint_classifier.hdf5\n",
            "Epoch 159/1000\n",
            "32/32 [==============================] - 0s 2ms/step - loss: 0.6383 - accuracy: 0.7735 - val_loss: 0.3367 - val_accuracy: 0.9348\n",
            "\n",
            "Epoch 00159: saving model to model/keypoint_classifier\\keypoint_classifier.hdf5\n",
            "Epoch 160/1000\n",
            "32/32 [==============================] - 0s 2ms/step - loss: 0.6649 - accuracy: 0.7585 - val_loss: 0.3471 - val_accuracy: 0.9319\n",
            "\n",
            "Epoch 00160: saving model to model/keypoint_classifier\\keypoint_classifier.hdf5\n",
            "Epoch 161/1000\n",
            "32/32 [==============================] - 0s 2ms/step - loss: 0.6458 - accuracy: 0.7804 - val_loss: 0.3388 - val_accuracy: 0.9422\n",
            "\n",
            "Epoch 00161: saving model to model/keypoint_classifier\\keypoint_classifier.hdf5\n",
            "Epoch 162/1000\n",
            "32/32 [==============================] - 0s 2ms/step - loss: 0.6623 - accuracy: 0.7572 - val_loss: 0.3357 - val_accuracy: 0.9385\n",
            "\n",
            "Epoch 00162: saving model to model/keypoint_classifier\\keypoint_classifier.hdf5\n",
            "Epoch 163/1000\n",
            "32/32 [==============================] - 0s 2ms/step - loss: 0.6764 - accuracy: 0.7500 - val_loss: 0.3589 - val_accuracy: 0.9296\n",
            "\n",
            "Epoch 00163: saving model to model/keypoint_classifier\\keypoint_classifier.hdf5\n",
            "Epoch 164/1000\n",
            "32/32 [==============================] - 0s 2ms/step - loss: 0.6824 - accuracy: 0.7581 - val_loss: 0.3511 - val_accuracy: 0.9341\n",
            "\n",
            "Epoch 00164: saving model to model/keypoint_classifier\\keypoint_classifier.hdf5\n",
            "Epoch 165/1000\n",
            "32/32 [==============================] - 0s 2ms/step - loss: 0.6732 - accuracy: 0.7526 - val_loss: 0.3443 - val_accuracy: 0.9348\n",
            "\n",
            "Epoch 00165: saving model to model/keypoint_classifier\\keypoint_classifier.hdf5\n",
            "Epoch 166/1000\n",
            "32/32 [==============================] - 0s 2ms/step - loss: 0.6798 - accuracy: 0.7543 - val_loss: 0.3383 - val_accuracy: 0.9407\n",
            "\n",
            "Epoch 00166: saving model to model/keypoint_classifier\\keypoint_classifier.hdf5\n",
            "Epoch 167/1000\n",
            "32/32 [==============================] - 0s 2ms/step - loss: 0.6708 - accuracy: 0.7544 - val_loss: 0.3441 - val_accuracy: 0.9422\n",
            "\n",
            "Epoch 00167: saving model to model/keypoint_classifier\\keypoint_classifier.hdf5\n",
            "Epoch 168/1000\n",
            "32/32 [==============================] - 0s 2ms/step - loss: 0.6450 - accuracy: 0.7701 - val_loss: 0.3456 - val_accuracy: 0.9407\n",
            "\n",
            "Epoch 00168: saving model to model/keypoint_classifier\\keypoint_classifier.hdf5\n",
            "Epoch 169/1000\n",
            "32/32 [==============================] - 0s 2ms/step - loss: 0.6759 - accuracy: 0.7525 - val_loss: 0.3342 - val_accuracy: 0.9422\n",
            "\n",
            "Epoch 00169: saving model to model/keypoint_classifier\\keypoint_classifier.hdf5\n",
            "Epoch 170/1000\n",
            "32/32 [==============================] - 0s 2ms/step - loss: 0.6490 - accuracy: 0.7696 - val_loss: 0.3367 - val_accuracy: 0.9385\n",
            "\n",
            "Epoch 00170: saving model to model/keypoint_classifier\\keypoint_classifier.hdf5\n",
            "Epoch 171/1000\n",
            "32/32 [==============================] - 0s 2ms/step - loss: 0.6684 - accuracy: 0.7636 - val_loss: 0.3409 - val_accuracy: 0.9393\n",
            "\n",
            "Epoch 00171: saving model to model/keypoint_classifier\\keypoint_classifier.hdf5\n",
            "Epoch 172/1000\n",
            "32/32 [==============================] - 0s 2ms/step - loss: 0.6734 - accuracy: 0.7613 - val_loss: 0.3459 - val_accuracy: 0.9296\n",
            "\n",
            "Epoch 00172: saving model to model/keypoint_classifier\\keypoint_classifier.hdf5\n",
            "Epoch 173/1000\n",
            "32/32 [==============================] - 0s 2ms/step - loss: 0.6882 - accuracy: 0.7573 - val_loss: 0.3369 - val_accuracy: 0.9333\n",
            "\n",
            "Epoch 00173: saving model to model/keypoint_classifier\\keypoint_classifier.hdf5\n",
            "Epoch 174/1000\n",
            "32/32 [==============================] - 0s 2ms/step - loss: 0.6505 - accuracy: 0.7653 - val_loss: 0.3369 - val_accuracy: 0.9363\n",
            "\n",
            "Epoch 00174: saving model to model/keypoint_classifier\\keypoint_classifier.hdf5\n",
            "Epoch 175/1000\n",
            "32/32 [==============================] - 0s 2ms/step - loss: 0.6500 - accuracy: 0.7714 - val_loss: 0.3400 - val_accuracy: 0.9304\n",
            "\n",
            "Epoch 00175: saving model to model/keypoint_classifier\\keypoint_classifier.hdf5\n",
            "Epoch 00175: early stopping\n"
          ]
        },
        {
          "data": {
            "text/plain": [
              "<tensorflow.python.keras.callbacks.History at 0x1c748e37848>"
            ]
          },
          "execution_count": 193,
          "metadata": {},
          "output_type": "execute_result"
        }
      ],
      "source": [
        "model.fit(\n",
        "    X_train,\n",
        "    y_train,\n",
        "    epochs=1000,\n",
        "    batch_size=128,\n",
        "    validation_data=(X_test, y_test),\n",
        "    callbacks=[cp_callback, es_callback]\n",
        ")"
      ]
    },
    {
      "cell_type": "code",
      "execution_count": 194,
      "metadata": {
        "colab": {
          "base_uri": "https://localhost:8080/"
        },
        "id": "pxvb2Y299hE3",
        "outputId": "59eb3185-2e37-4b9e-bc9d-ab1b8ac29b7f"
      },
      "outputs": [
        {
          "name": "stdout",
          "output_type": "stream",
          "text": [
            " 1/11 [=>............................] - ETA: 0s - loss: 0.3812 - accuracy: 0.9453"
          ]
        },
        {
          "name": "stdout",
          "output_type": "stream",
          "text": [
            "11/11 [==============================] - 0s 1ms/step - loss: 0.3400 - accuracy: 0.9304\n"
          ]
        }
      ],
      "source": [
        "# Model evaluation\n",
        "val_loss, val_acc = model.evaluate(X_test, y_test, batch_size=128)"
      ]
    },
    {
      "cell_type": "code",
      "execution_count": 195,
      "metadata": {
        "id": "RBkmDeUW9hE4"
      },
      "outputs": [],
      "source": [
        "# Loading the saved model\n",
        "model = tf.keras.models.load_model(model_save_path)"
      ]
    },
    {
      "cell_type": "code",
      "execution_count": 196,
      "metadata": {
        "colab": {
          "base_uri": "https://localhost:8080/"
        },
        "id": "tFz9Tb0I9hE4",
        "outputId": "1c3b3528-54ae-4ee2-ab04-77429211cbef"
      },
      "outputs": [
        {
          "name": "stdout",
          "output_type": "stream",
          "text": [
            "[7.0533447e-02 4.3624067e-01 4.6905455e-01 5.5653155e-03 3.3129537e-03\n",
            " 6.9846674e-03 8.1667295e-03 1.4163638e-04]\n",
            "2\n"
          ]
        }
      ],
      "source": [
        "# Inference test\n",
        "predict_result = model.predict(np.array([X_test[0]]))\n",
        "print(np.squeeze(predict_result))\n",
        "print(np.argmax(np.squeeze(predict_result)))"
      ]
    },
    {
      "cell_type": "markdown",
      "metadata": {
        "id": "S3U4yNWx9hE4"
      },
      "source": [
        "# Confusion matrix"
      ]
    },
    {
      "cell_type": "code",
      "execution_count": 197,
      "metadata": {
        "colab": {
          "base_uri": "https://localhost:8080/",
          "height": 582
        },
        "id": "AP1V6SCk9hE5",
        "outputId": "08e41a80-7a4a-4619-8125-ecc371368d19"
      },
      "outputs": [
        {
          "data": {
            "image/png": "[encoded data removed]",
            "text/plain": [
              "<Figure size 700x600 with 2 Axes>"
            ]
          },
          "metadata": {},
          "output_type": "display_data"
        },
        {
          "name": "stdout",
          "output_type": "stream",
          "text": [
            "Classification Report\n",
            "              precision    recall  f1-score   support\n",
            "\n",
            "           0       0.98      0.95      0.96       405\n",
            "           1       0.92      0.96      0.94       383\n",
            "           2       0.91      0.98      0.95       331\n",
            "           3       0.86      0.99      0.92        85\n",
            "           4       0.91      0.74      0.82        43\n",
            "           5       0.88      0.79      0.83        57\n",
            "           6       1.00      0.41      0.58        46\n",
            "\n",
            "    accuracy                           0.93      1350\n",
            "   macro avg       0.92      0.83      0.86      1350\n",
            "weighted avg       0.93      0.93      0.93      1350\n",
            "\n"
          ]
        }
      ],
      "source": [
        "import pandas as pd\n",
        "import seaborn as sns\n",
        "import matplotlib.pyplot as plt\n",
        "from sklearn.metrics import confusion_matrix, classification_report\n",
        "\n",
        "def print_confusion_matrix(y_true, y_pred, report=True):\n",
        "    labels = sorted(list(set(y_true)))\n",
        "    cmx_data = confusion_matrix(y_true, y_pred, labels=labels)\n",
        "    \n",
        "    df_cmx = pd.DataFrame(cmx_data, index=labels, columns=labels)\n",
        " \n",
        "    fig, ax = plt.subplots(figsize=(7, 6))\n",
        "    sns.heatmap(df_cmx, annot=True, fmt='g' ,square=False)\n",
        "    ax.set_ylim(len(set(y_true)), 0)\n",
        "    plt.show()\n",
        "    \n",
        "    if report:\n",
        "        print('Classification Report')\n",
        "        print(classification_report(y_test, y_pred))\n",
        "\n",
        "Y_pred = model.predict(X_test)\n",
        "y_pred = np.argmax(Y_pred, axis=1)\n",
        "\n",
        "print_confusion_matrix(y_test, y_pred)"
      ]
    },
    {
      "cell_type": "markdown",
      "metadata": {
        "id": "FNP6aqzc9hE5"
      },
      "source": [
        "# Convert to model for Tensorflow-Lite"
      ]
    },
    {
      "cell_type": "code",
      "execution_count": 198,
      "metadata": {
        "id": "ODjnYyld9hE6"
      },
      "outputs": [],
      "source": [
        "# Save as a model dedicated to inference\n",
        "model.save(model_save_path, include_optimizer=False)"
      ]
    },
    {
      "cell_type": "code",
      "execution_count": 199,
      "metadata": {
        "colab": {
          "base_uri": "https://localhost:8080/"
        },
        "id": "zRfuK8Y59hE6",
        "outputId": "a4ca585c-b5d5-4244-8291-8674063209bb"
      },
      "outputs": [
        {
          "name": "stdout",
          "output_type": "stream",
          "text": [
            "INFO:tensorflow:Assets written to: C:\\Users\\ACER\\AppData\\Local\\Temp\\tmp56kaopwz\\assets\n"
          ]
        },
        {
          "name": "stderr",
          "output_type": "stream",
          "text": [
            "INFO:tensorflow:Assets written to: C:\\Users\\ACER\\AppData\\Local\\Temp\\tmp56kaopwz\\assets\n"
          ]
        },
        {
          "data": {
            "text/plain": [
              "6592"
            ]
          },
          "execution_count": 199,
          "metadata": {},
          "output_type": "execute_result"
        }
      ],
      "source": [
        "# Transform model (quantization)\n",
        "\n",
        "converter = tf.lite.TFLiteConverter.from_keras_model(model)\n",
        "converter.optimizations = [tf.lite.Optimize.DEFAULT]\n",
        "tflite_quantized_model = converter.convert()\n",
        "\n",
        "open(tflite_save_path, 'wb').write(tflite_quantized_model)"
      ]
    },
    {
      "cell_type": "markdown",
      "metadata": {
        "id": "CHBPBXdx9hE6"
      },
      "source": [
        "# Inference test"
      ]
    },
    {
      "cell_type": "code",
      "execution_count": 200,
      "metadata": {
        "id": "mGAzLocO9hE7"
      },
      "outputs": [],
      "source": [
        "interpreter = tf.lite.Interpreter(model_path=tflite_save_path)\n",
        "interpreter.allocate_tensors()"
      ]
    },
    {
      "cell_type": "code",
      "execution_count": 201,
      "metadata": {
        "id": "oQuDK8YS9hE7"
      },
      "outputs": [],
      "source": [
        "# Get I / O tensor\n",
        "input_details = interpreter.get_input_details()\n",
        "output_details = interpreter.get_output_details()"
      ]
    },
    {
      "cell_type": "code",
      "execution_count": 202,
      "metadata": {
        "id": "2_ixAf_l9hE7"
      },
      "outputs": [],
      "source": [
        "interpreter.set_tensor(input_details[0]['index'], np.array([X_test[0]]))"
      ]
    },
    {
      "cell_type": "code",
      "execution_count": 203,
      "metadata": {
        "colab": {
          "base_uri": "https://localhost:8080/"
        },
        "id": "s4FoAnuc9hE7",
        "outputId": "91f18257-8d8b-4ef3-c558-e9b5f94fabbf",
        "scrolled": true
      },
      "outputs": [
        {
          "name": "stdout",
          "output_type": "stream",
          "text": [
            "Wall time: 0 ns\n"
          ]
        }
      ],
      "source": [
        "%%time\n",
        "# Inference implementation\n",
        "interpreter.invoke()\n",
        "tflite_results = interpreter.get_tensor(output_details[0]['index'])"
      ]
    },
    {
      "cell_type": "code",
      "execution_count": 204,
      "metadata": {
        "colab": {
          "base_uri": "https://localhost:8080/"
        },
        "id": "vONjp19J9hE8",
        "outputId": "77205e24-fd00-42c4-f7b6-e06e527c2cba"
      },
      "outputs": [
        {
          "name": "stdout",
          "output_type": "stream",
          "text": [
            "[7.0533440e-02 4.3624082e-01 4.6905449e-01 5.5653197e-03 3.3129596e-03\n",
            " 6.9846800e-03 8.1667323e-03 1.4163637e-04]\n",
            "2\n"
          ]
        }
      ],
      "source": [
        "print(np.squeeze(tflite_results))\n",
        "print(np.argmax(np.squeeze(tflite_results)))"
      ]
    }
  ],
  "metadata": {
    "accelerator": "GPU",
    "colab": {
      "collapsed_sections": [],
      "name": "keypoint_classification_EN.ipynb",
      "provenance": [],
      "toc_visible": true
    },
    "kernelspec": {
      "display_name": "Python 3",
      "language": "python",
      "name": "python3"
    },
    "language_info": {
      "codemirror_mode": {
        "name": "ipython",
        "version": 3
      },
      "file_extension": ".py",
      "mimetype": "text/x-python",
      "name": "python",
      "nbconvert_exporter": "python",
      "pygments_lexer": "ipython3",
      "version": "3.7.7"
    }
  },
  "nbformat": 4,
  "nbformat_minor": 0
}
